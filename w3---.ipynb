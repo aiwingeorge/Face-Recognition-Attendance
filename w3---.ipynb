{
 "cells": [
  {
   "cell_type": "code",
   "execution_count": 1,
   "metadata": {},
   "outputs": [],
   "source": [
    "import cv2\n",
    "import os\n",
    "import numpy as np\n",
    "import pandas as pd\n",
    "from datetime import datetime, date\n",
    "\n",
    "count = 0\n",
    "person_data = {}\n",
    "\n",
    "def scan_now():\n",
    "    face_cascade = cv2.CascadeClassifier('--File Path--')\n",
    "\n",
    "    video = cv2.VideoCapture(0)\n",
    "\n",
    "    while True:\n",
    "        success, frame = video.read()\n",
    "\n",
    "        gray = cv2.cvtColor(frame, cv2.COLOR_BGR2GRAY)\n",
    "        faces = face_cascade.detectMultiScale(gray, scaleFactor=1.1, minNeighbors=4, minSize=(30, 30))\n",
    "\n",
    "        face_count = len(faces)\n",
    "        df = pd.DataFrame({'attendance': [face_count]})\n",
    "\n",
    "        for (x, y, w, h) in faces:\n",
    "            cv2.rectangle(frame, (x, y), (x+w, y+h), (0, 255, 0), 3)\n",
    "\n",
    "        cv2.imshow('Mark Your Attendance', frame)\n",
    "        if cv2.waitKey(1) & 0xFF == 27:\n",
    "            break\n",
    "\n",
    "    video.release()\n",
    "    cv2.destroyAllWindows()\n",
    "\n",
    "    x = df['attendance'].mode()[0]\n",
    "\n",
    "    now = datetime.now()\n",
    "    current_date = date.today().strftime(\"%Y-%m-%d\")\n",
    "    current_time = now.strftime(\"%H:%M:%S\")\n",
    "\n",
    "    global count, person_data\n",
    "\n",
    "    count += x\n",
    "    if current_date not in person_data:\n",
    "        person_data[current_date] = [{'attendance': x, 'time': current_time}]\n",
    "    else:\n",
    "        person_data[current_date].append({'attendance': x, 'time': current_time})\n",
    "\n",
    "    return count, current_time\n",
    "\n",
    "\n"
   ]
  },
  {
   "cell_type": "code",
   "execution_count": 3,
   "metadata": {},
   "outputs": [
    {
     "name": "stdout",
     "output_type": "stream",
     "text": [
      "         Date                                      0   \n",
      "0  2024-01-24  {'attendance': 2, 'time': '13:00:05'}  \\\n",
      "\n",
      "                                       1  \n",
      "0  {'attendance': 1, 'time': '13:00:17'}  \n"
     ]
    }
   ],
   "source": [
    "count, current_time = scan_now()\n",
    "df = pd.DataFrame.from_dict(person_data, orient='index')\n",
    "df.to_csv('attendance.csv', index_label='Date')\n",
    "data = pd.read_csv('attendance.csv')\n",
    "print(data)"
   ]
  }
 ],
 "metadata": {
  "kernelspec": {
   "display_name": "Python 3",
   "language": "python",
   "name": "python3"
  },
  "language_info": {
   "codemirror_mode": {
    "name": "ipython",
    "version": 3
   },
   "file_extension": ".py",
   "mimetype": "text/x-python",
   "name": "python",
   "nbconvert_exporter": "python",
   "pygments_lexer": "ipython3",
   "version": "3.8.10"
  },
  "orig_nbformat": 4
 },
 "nbformat": 4,
 "nbformat_minor": 2
}
